{
 "cells": [
  {
   "cell_type": "markdown",
   "metadata": {},
   "source": [
    "# TASK 2 - Adding data to SQL - If we have only monthky snapshits to add (incremental load/delta) then we iterate over the rows in excel.\n",
    "I am using data frames here too, but other objects like dict can be used to read rows from excel. The idea is to loop over one by one and increment duration in ticker_info table while adding data to nifty50_monthly."
   ]
  },
  {
   "cell_type": "code",
   "execution_count": null,
   "metadata": {},
   "outputs": [],
   "source": [
    "import pymysql\n",
    "import pandas as pd\n",
    "import numpy as np\n",
    "from google.cloud.sql.connector import Connector\n",
    "import sqlalchemy\n",
    "import datetime\n",
    "# from pymysql.err import IntegrityError, OperationalError\n",
    "from sqlalchemy.exc import OperationalError,ProgrammingError,IntegrityError\n",
    "\n",
    "# The Cloud SQL Python Connector can be used along with SQLAlchemy using the\n",
    "# 'creator' argument to 'create_engine'\n",
    "connector = Connector()\n",
    "def getconn() -> pymysql.connections.Connection:\n",
    "    conn: pymysql.connections.Connection = connector.connect(\n",
    "        \"my-project-olam-95:us-central1:my-case-study-1\",\n",
    "        \"pymysql\",\n",
    "        user=\"root\",\n",
    "        password=\"uIF2eu1AKgIlqHNv\",\n",
    "        db=\"nifty-data\",\n",
    "    )\n",
    "    return conn\n",
    "\n",
    "pool = sqlalchemy.create_engine(\n",
    "    \"mysql+pymysql://\",\n",
    "    creator=getconn,\n",
    ")\n",
    "\n",
    "db = pool.connect()\n",
    "\n",
    "db.execute(\"DROP TABLE nifty50_monthly\")\n",
    "db.execute(\"DROP TABLE ticker_info\")\n",
    "\n",
    "create_ticker_info = \"CREATE TABLE ticker_info ( symbol VARCHAR(20) PRIMARY KEY, name VARCHAR(50), industry VARCHAR(40), duration_in_nifty50 INT);\"\n",
    "\n",
    "create_nifty50_monthly = \"CREATE TABLE nifty50_monthly ( symbol VARCHAR(20),report_date DATE,equity_capital BIGINT,free_float_market_cap DECIMAL,weightage DECIMAL,beta DECIMAL,R2 DECIMAL,volatility_per DECIMAL,monthly_return DECIMAL,avg_impact_cost_percent DECIMAL,PRIMARY KEY (report_date, symbol),FOREIGN KEY (symbol) REFERENCES ticker_info(symbol));\"\n",
    "\n",
    "try:\n",
    "    db.execute(create_ticker_info)\n",
    "    db.execute(create_nifty50_monthly)\n",
    "except (OperationalError, ProgrammingError) as err:\n",
    "    print(err.args[0])\n",
    "else:\n",
    "    print(\"OK\")\n",
    "    \n",
    "\n",
    "insert_stmt_ticker_info = sqlalchemy.text(\"INSERT INTO ticker_info (symbol, name, industry, duration_in_nifty50) VALUES (:symbol, :name, :industry, :duration) ON DUPLICATE KEY UPDATE duration_in_nifty50=duration_in_nifty50+1\")\n",
    "\n",
    "insert_stmt_nifty50_monthly = sqlalchemy.text(\"INSERT INTO nifty50_monthly (symbol, report_date, equity_capital, free_float_market_cap, weightage, beta, R2, volatility_per, monthly_return, avg_impact_cost_percent) VALUES (:symbol, :report_date, :equity_capital, :free_float_market_cap, :weightage, :beta, :R2, :volatility_per, :monthly_return, :avg_impact_cost_percent)\")\n",
    "\n",
    "for num, row in df.iterrows():\n",
    "    try:\n",
    "        db.execute(insert_stmt_ticker_info,symbol=row[0],name=row[1],industry=row[2],duration=1)\n",
    "    except (OperationalError, ProgrammingError) as err:\n",
    "        print(\"FAILED to Add/Update table ticker_info\",err)\n",
    "    else:\n",
    "        try:\n",
    "            db.execute(insert_stmt_nifty50_monthly,symbol=row[0],report_date=row[11],equity_capital=row[3],free_float_market_cap=row[4],weightage=row[5],beta=row[6],R2=row[7],volatility_per=row[8],monthly_return=row[9],avg_impact_cost_percent=row[10])\n",
    "        except (OperationalError, ProgrammingError) as err:\n",
    "            print(\"FAILED to Add/Update table insert_stmt_nifty50_monthly\",err)\n",
    "        else:\n",
    "            print(\"Inserted into both tables.\")\n",
    "        \n",
    "    "
   ]
  }
 ],
 "metadata": {
  "kernelspec": {
   "display_name": "Python 3",
   "language": "python",
   "name": "python3"
  },
  "language_info": {
   "codemirror_mode": {
    "name": "ipython",
    "version": 3
   },
   "file_extension": ".py",
   "mimetype": "text/x-python",
   "name": "python",
   "nbconvert_exporter": "python",
   "pygments_lexer": "ipython3",
   "version": "3.7.6"
  }
 },
 "nbformat": 4,
 "nbformat_minor": 4
}
